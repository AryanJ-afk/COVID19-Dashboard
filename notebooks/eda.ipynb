{
 "cells": [
  {
   "cell_type": "code",
   "execution_count": 1,
   "id": "0ae82b50",
   "metadata": {},
   "outputs": [
    {
     "data": {
      "text/plain": [
       "(            country       date  confirmed  deaths  new_confirmed  new_deaths  \\\n",
       " 36528      Cambodia 2023-01-21     138676    3056              3           0   \n",
       " 190406  South Sudan 2021-11-20      12638     133              0           0   \n",
       " 123310   MS Zaandam 2022-10-27          9       2              0           0   \n",
       " 118665        Libya 2022-08-15     506314    6435            358           1   \n",
       " 26873      Botswana 2021-08-28     153793    2213              0           0   \n",
       " \n",
       "         new_confirmed_7dma  new_deaths_7dma       cfr  \n",
       " 36528             2.428571         0.000000  0.022037  \n",
       " 190406           11.428571         0.000000  0.010524  \n",
       " 123310            0.000000         0.000000  0.222222  \n",
       " 118665           87.000000         0.285714  0.012710  \n",
       " 26873          1047.428571        18.857143  0.014389  ,\n",
       "            date  confirmed   deaths  new_confirmed  new_deaths  \\\n",
       " 1138 2023-03-05  676024901  6877749          59988         186   \n",
       " 1139 2023-03-06  676082941  6878115          63196         366   \n",
       " 1140 2023-03-07  676213378  6879038         130437         923   \n",
       " 1141 2023-03-08  676392824  6880483         179446        1445   \n",
       " 1142 2023-03-09  676570149  6881802         177325        1319   \n",
       " \n",
       "       new_confirmed_7dma  new_deaths_7dma       cfr  \n",
       " 1138       140837.714286       932.285714  0.010174  \n",
       " 1139       131719.285714       906.571429  0.010173  \n",
       " 1140       128810.142857       913.428571  0.010173  \n",
       " 1141       122929.000000       865.428571  0.010172  \n",
       " 1142       121036.571429       829.857143  0.010172  )"
      ]
     },
     "execution_count": 1,
     "metadata": {},
     "output_type": "execute_result"
    }
   ],
   "source": [
    "import pandas as pd\n",
    "import plotly.express as px\n",
    "\n",
    "country = pd.read_csv(\"../data/processed/country_daily.csv\", parse_dates=[\"date\"])\n",
    "global_df = pd.read_csv(\"../data/processed/global_daily.csv\", parse_dates=[\"date\"])\n",
    "\n",
    "country.sample(5), global_df.tail()\n"
   ]
  }
 ],
 "metadata": {
  "kernelspec": {
   "display_name": "Python 3",
   "language": "python",
   "name": "python3"
  },
  "language_info": {
   "codemirror_mode": {
    "name": "ipython",
    "version": 3
   },
   "file_extension": ".py",
   "mimetype": "text/x-python",
   "name": "python",
   "nbconvert_exporter": "python",
   "pygments_lexer": "ipython3",
   "version": "3.11.4"
  }
 },
 "nbformat": 4,
 "nbformat_minor": 5
}
